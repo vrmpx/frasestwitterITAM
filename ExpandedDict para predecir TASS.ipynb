{
 "cells": [
  {
   "cell_type": "code",
   "execution_count": 1,
   "metadata": {
    "collapsed": false
   },
   "outputs": [],
   "source": [
    "%matplotlib inline\n",
    "import numpy as np\n",
    "import pandas as pd\n",
    "import untangle\n",
    "from sklearn.preprocessing import MinMaxScaler\n",
    "from sklearn.tree import DecisionTreeClassifier\n",
    "import matplotlib.pyplot as plt\n",
    "import seaborn as sns"
   ]
  },
  {
   "cell_type": "code",
   "execution_count": 2,
   "metadata": {
    "collapsed": false
   },
   "outputs": [],
   "source": [
    "file = untangle.parse(\"./tass/tass_2015_tagged/general-tweets-test.xml\")"
   ]
  },
  {
   "cell_type": "code",
   "execution_count": 3,
   "metadata": {
    "collapsed": false
   },
   "outputs": [
    {
     "data": {
      "text/html": [
       "<div>\n",
       "<table border=\"1\" class=\"dataframe\">\n",
       "  <thead>\n",
       "    <tr style=\"text-align: right;\">\n",
       "      <th></th>\n",
       "      <th>sent</th>\n",
       "      <th>text</th>\n",
       "      <th>tid</th>\n",
       "    </tr>\n",
       "  </thead>\n",
       "  <tbody>\n",
       "    <tr>\n",
       "      <th>0</th>\n",
       "      <td>N</td>\n",
       "      <td>Portada 'Público', viernes. Fabra al banquillo...</td>\n",
       "      <td>142378325086715906</td>\n",
       "    </tr>\n",
       "    <tr>\n",
       "      <th>1</th>\n",
       "      <td>NONE</td>\n",
       "      <td>Grande! RT @veronicacalderon \"El periodista es...</td>\n",
       "      <td>142379080808013825</td>\n",
       "    </tr>\n",
       "    <tr>\n",
       "      <th>2</th>\n",
       "      <td>P+</td>\n",
       "      <td>Gonzalo Altozano tras la presentación de su li...</td>\n",
       "      <td>142379173120442368</td>\n",
       "    </tr>\n",
       "    <tr>\n",
       "      <th>3</th>\n",
       "      <td>N</td>\n",
       "      <td>Mañana en Gaceta: TVE, la que pagamos tú y yo,...</td>\n",
       "      <td>142379815708803072</td>\n",
       "    </tr>\n",
       "    <tr>\n",
       "      <th>4</th>\n",
       "      <td>NONE</td>\n",
       "      <td>Qué envidia “@mfcastineiras: Pedro mañana x la...</td>\n",
       "      <td>142381190123499520</td>\n",
       "    </tr>\n",
       "  </tbody>\n",
       "</table>\n",
       "</div>"
      ],
      "text/plain": [
       "   sent                                               text                 tid\n",
       "0     N  Portada 'Público', viernes. Fabra al banquillo...  142378325086715906\n",
       "1  NONE  Grande! RT @veronicacalderon \"El periodista es...  142379080808013825\n",
       "2    P+  Gonzalo Altozano tras la presentación de su li...  142379173120442368\n",
       "3     N  Mañana en Gaceta: TVE, la que pagamos tú y yo,...  142379815708803072\n",
       "4  NONE  Qué envidia “@mfcastineiras: Pedro mañana x la...  142381190123499520"
      ]
     },
     "execution_count": 3,
     "metadata": {},
     "output_type": "execute_result"
    }
   ],
   "source": [
    "res = []\n",
    "for t in file.tweets.tweet:\n",
    "    tmp = {\n",
    "            'tid': t.tweetid.cdata,\n",
    "            'text': t.content.cdata,\n",
    "            'sent': t.sentiments.polarity.value.cdata\n",
    "          }\n",
    "    res.append(tmp)\n",
    "data = pd.DataFrame(res)\n",
    "data.head()"
   ]
  },
  {
   "cell_type": "markdown",
   "metadata": {},
   "source": [
    "# Dictionary\n",
    "Cargamos el diccionario de sentimientos"
   ]
  },
  {
   "cell_type": "code",
   "execution_count": 4,
   "metadata": {
    "collapsed": false
   },
   "outputs": [
    {
     "data": {
      "text/html": [
       "<div>\n",
       "<table border=\"1\" class=\"dataframe\">\n",
       "  <thead>\n",
       "    <tr style=\"text-align: right;\">\n",
       "      <th></th>\n",
       "      <th>Arousal</th>\n",
       "      <th>Arousal.std</th>\n",
       "      <th>Frequency</th>\n",
       "      <th>Valence</th>\n",
       "      <th>Valence.std</th>\n",
       "    </tr>\n",
       "    <tr>\n",
       "      <th>word</th>\n",
       "      <th></th>\n",
       "      <th></th>\n",
       "      <th></th>\n",
       "      <th></th>\n",
       "      <th></th>\n",
       "    </tr>\n",
       "  </thead>\n",
       "  <tbody>\n",
       "    <tr>\n",
       "      <th>favorecera</th>\n",
       "      <td>-0.561038</td>\n",
       "      <td>1.151659</td>\n",
       "      <td>0.315683</td>\n",
       "      <td>-0.401390</td>\n",
       "      <td>1.151659</td>\n",
       "    </tr>\n",
       "    <tr>\n",
       "      <th>quebrando</th>\n",
       "      <td>-0.503253</td>\n",
       "      <td>0.865376</td>\n",
       "      <td>0.000000</td>\n",
       "      <td>-0.454401</td>\n",
       "      <td>0.915689</td>\n",
       "    </tr>\n",
       "    <tr>\n",
       "      <th>riããn</th>\n",
       "      <td>-0.594370</td>\n",
       "      <td>1.072309</td>\n",
       "      <td>0.000000</td>\n",
       "      <td>-0.788583</td>\n",
       "      <td>0.906953</td>\n",
       "    </tr>\n",
       "    <tr>\n",
       "      <th>joeputa</th>\n",
       "      <td>-0.511118</td>\n",
       "      <td>1.111435</td>\n",
       "      <td>0.625913</td>\n",
       "      <td>-0.656322</td>\n",
       "      <td>1.140683</td>\n",
       "    </tr>\n",
       "    <tr>\n",
       "      <th>violara</th>\n",
       "      <td>-0.562949</td>\n",
       "      <td>1.115381</td>\n",
       "      <td>0.000000</td>\n",
       "      <td>-0.773852</td>\n",
       "      <td>0.943383</td>\n",
       "    </tr>\n",
       "    <tr>\n",
       "      <th>frustrar</th>\n",
       "      <td>-0.463653</td>\n",
       "      <td>1.117503</td>\n",
       "      <td>5.190802</td>\n",
       "      <td>-0.664582</td>\n",
       "      <td>1.061628</td>\n",
       "    </tr>\n",
       "    <tr>\n",
       "      <th>inmamable</th>\n",
       "      <td>-0.415107</td>\n",
       "      <td>0.943943</td>\n",
       "      <td>3.967588</td>\n",
       "      <td>-0.877599</td>\n",
       "      <td>0.999469</td>\n",
       "    </tr>\n",
       "    <tr>\n",
       "      <th>ladrido</th>\n",
       "      <td>-0.626952</td>\n",
       "      <td>1.001546</td>\n",
       "      <td>1.118518</td>\n",
       "      <td>-0.563977</td>\n",
       "      <td>0.773764</td>\n",
       "    </tr>\n",
       "    <tr>\n",
       "      <th>servilismo</th>\n",
       "      <td>-0.482482</td>\n",
       "      <td>1.164265</td>\n",
       "      <td>2.321205</td>\n",
       "      <td>-0.717784</td>\n",
       "      <td>0.891618</td>\n",
       "    </tr>\n",
       "    <tr>\n",
       "      <th>deportar</th>\n",
       "      <td>-0.339893</td>\n",
       "      <td>1.246697</td>\n",
       "      <td>0.577550</td>\n",
       "      <td>-0.694792</td>\n",
       "      <td>0.795459</td>\n",
       "    </tr>\n",
       "    <tr>\n",
       "      <th>5529002100</th>\n",
       "      <td>-0.513693</td>\n",
       "      <td>1.472522</td>\n",
       "      <td>22.282983</td>\n",
       "      <td>-0.016539</td>\n",
       "      <td>0.946199</td>\n",
       "    </tr>\n",
       "    <tr>\n",
       "      <th>listerine</th>\n",
       "      <td>-0.610317</td>\n",
       "      <td>1.142714</td>\n",
       "      <td>2.586435</td>\n",
       "      <td>-0.816280</td>\n",
       "      <td>0.942042</td>\n",
       "    </tr>\n",
       "    <tr>\n",
       "      <th>sorprendida</th>\n",
       "      <td>-0.373978</td>\n",
       "      <td>0.938998</td>\n",
       "      <td>0.000000</td>\n",
       "      <td>-0.358300</td>\n",
       "      <td>0.933265</td>\n",
       "    </tr>\n",
       "    <tr>\n",
       "      <th>victoria</th>\n",
       "      <td>0.717487</td>\n",
       "      <td>2.090000</td>\n",
       "      <td>65.000000</td>\n",
       "      <td>0.846048</td>\n",
       "      <td>1.370000</td>\n",
       "    </tr>\n",
       "    <tr>\n",
       "      <th>ataÃºd</th>\n",
       "      <td>0.388373</td>\n",
       "      <td>2.490000</td>\n",
       "      <td>5.540000</td>\n",
       "      <td>-0.743945</td>\n",
       "      <td>1.280000</td>\n",
       "    </tr>\n",
       "    <tr>\n",
       "      <th>acondicionar</th>\n",
       "      <td>-0.358868</td>\n",
       "      <td>0.985456</td>\n",
       "      <td>0.287647</td>\n",
       "      <td>-0.942913</td>\n",
       "      <td>0.601927</td>\n",
       "    </tr>\n",
       "    <tr>\n",
       "      <th>laaaaargo</th>\n",
       "      <td>-0.378572</td>\n",
       "      <td>1.302895</td>\n",
       "      <td>1.514747</td>\n",
       "      <td>-0.089986</td>\n",
       "      <td>0.635558</td>\n",
       "    </tr>\n",
       "    <tr>\n",
       "      <th>reforzar</th>\n",
       "      <td>-0.466483</td>\n",
       "      <td>1.008012</td>\n",
       "      <td>6.632382</td>\n",
       "      <td>-0.266999</td>\n",
       "      <td>0.774119</td>\n",
       "    </tr>\n",
       "    <tr>\n",
       "      <th>#ermita</th>\n",
       "      <td>-0.560428</td>\n",
       "      <td>1.073944</td>\n",
       "      <td>7.691004</td>\n",
       "      <td>-0.469249</td>\n",
       "      <td>0.950888</td>\n",
       "    </tr>\n",
       "    <tr>\n",
       "      <th>gritado</th>\n",
       "      <td>-0.511038</td>\n",
       "      <td>1.218670</td>\n",
       "      <td>2.778119</td>\n",
       "      <td>-0.377170</td>\n",
       "      <td>1.342958</td>\n",
       "    </tr>\n",
       "  </tbody>\n",
       "</table>\n",
       "</div>"
      ],
      "text/plain": [
       "               Arousal  Arousal.std  Frequency   Valence  Valence.std\n",
       "word                                                                 \n",
       "favorecera   -0.561038     1.151659   0.315683 -0.401390     1.151659\n",
       "quebrando    -0.503253     0.865376   0.000000 -0.454401     0.915689\n",
       "riããn        -0.594370     1.072309   0.000000 -0.788583     0.906953\n",
       "joeputa      -0.511118     1.111435   0.625913 -0.656322     1.140683\n",
       "violara      -0.562949     1.115381   0.000000 -0.773852     0.943383\n",
       "frustrar     -0.463653     1.117503   5.190802 -0.664582     1.061628\n",
       "inmamable    -0.415107     0.943943   3.967588 -0.877599     0.999469\n",
       "ladrido      -0.626952     1.001546   1.118518 -0.563977     0.773764\n",
       "servilismo   -0.482482     1.164265   2.321205 -0.717784     0.891618\n",
       "deportar     -0.339893     1.246697   0.577550 -0.694792     0.795459\n",
       "5529002100   -0.513693     1.472522  22.282983 -0.016539     0.946199\n",
       "listerine    -0.610317     1.142714   2.586435 -0.816280     0.942042\n",
       "sorprendida  -0.373978     0.938998   0.000000 -0.358300     0.933265\n",
       "victoria      0.717487     2.090000  65.000000  0.846048     1.370000\n",
       "ataÃºd        0.388373     2.490000   5.540000 -0.743945     1.280000\n",
       "acondicionar -0.358868     0.985456   0.287647 -0.942913     0.601927\n",
       "laaaaargo    -0.378572     1.302895   1.514747 -0.089986     0.635558\n",
       "reforzar     -0.466483     1.008012   6.632382 -0.266999     0.774119\n",
       "#ermita      -0.560428     1.073944   7.691004 -0.469249     0.950888\n",
       "gritado      -0.511038     1.218670   2.778119 -0.377170     1.342958"
      ]
     },
     "execution_count": 4,
     "metadata": {},
     "output_type": "execute_result"
    }
   ],
   "source": [
    "sentiment = pd.read_csv(\"./expandedANSW.csv\", encoding = \"latin1\")\n",
    "sentiment.rename(columns = {'Unnamed: 0': 'word'}, inplace = True)\n",
    "\n",
    "scaler = MinMaxScaler(feature_range = (-1, 1))\n",
    "sentiment['Valence'] = scaler.fit_transform(sentiment['Valence'].reshape(-1, 1))\n",
    "sentiment['Arousal'] = scaler.fit_transform(sentiment['Arousal'].reshape(-1, 1))\n",
    "\n",
    "sentiment = sentiment.set_index('word')\n",
    "sentiment.sample(20)"
   ]
  },
  {
   "cell_type": "markdown",
   "metadata": {},
   "source": [
    "# Sentiment analysis"
   ]
  },
  {
   "cell_type": "code",
   "execution_count": 5,
   "metadata": {
    "collapsed": true
   },
   "outputs": [],
   "source": [
    "def tokenize(x):\n",
    "    return x.strip().split(\" \")\n",
    "\n",
    "def valence(x, sentiment):\n",
    "    return [(word, sentiment.ix[word, 'Valence']) for word in x if word in sentiment.index]"
   ]
  },
  {
   "cell_type": "code",
   "execution_count": 6,
   "metadata": {
    "collapsed": false
   },
   "outputs": [
    {
     "data": {
      "text/html": [
       "<div>\n",
       "<table border=\"1\" class=\"dataframe\">\n",
       "  <thead>\n",
       "    <tr style=\"text-align: right;\">\n",
       "      <th></th>\n",
       "      <th>sent</th>\n",
       "      <th>text</th>\n",
       "      <th>tid</th>\n",
       "      <th>list_sentwords</th>\n",
       "    </tr>\n",
       "  </thead>\n",
       "  <tbody>\n",
       "    <tr>\n",
       "      <th>0</th>\n",
       "      <td>N</td>\n",
       "      <td>Portada 'Público', viernes. Fabra al banquillo...</td>\n",
       "      <td>142378325086715906</td>\n",
       "      <td>[-0.89718783377, -0.0447587788492]</td>\n",
       "    </tr>\n",
       "    <tr>\n",
       "      <th>1</th>\n",
       "      <td>NONE</td>\n",
       "      <td>Grande! RT @veronicacalderon \"El periodista es...</td>\n",
       "      <td>142379080808013825</td>\n",
       "      <td>[-0.186050789576, -0.0737980590249]</td>\n",
       "    </tr>\n",
       "    <tr>\n",
       "      <th>2</th>\n",
       "      <td>P+</td>\n",
       "      <td>Gonzalo Altozano tras la presentación de su li...</td>\n",
       "      <td>142379173120442368</td>\n",
       "      <td>[0.464954774729]</td>\n",
       "    </tr>\n",
       "    <tr>\n",
       "      <th>3</th>\n",
       "      <td>N</td>\n",
       "      <td>Mañana en Gaceta: TVE, la que pagamos tú y yo,...</td>\n",
       "      <td>142379815708803072</td>\n",
       "      <td>[-0.627849859906]</td>\n",
       "    </tr>\n",
       "    <tr>\n",
       "      <th>4</th>\n",
       "      <td>NONE</td>\n",
       "      <td>Qué envidia “@mfcastineiras: Pedro mañana x la...</td>\n",
       "      <td>142381190123499520</td>\n",
       "      <td>[-0.133998716773]</td>\n",
       "    </tr>\n",
       "  </tbody>\n",
       "</table>\n",
       "</div>"
      ],
      "text/plain": [
       "   sent                                               text  \\\n",
       "0     N  Portada 'Público', viernes. Fabra al banquillo...   \n",
       "1  NONE  Grande! RT @veronicacalderon \"El periodista es...   \n",
       "2    P+  Gonzalo Altozano tras la presentación de su li...   \n",
       "3     N  Mañana en Gaceta: TVE, la que pagamos tú y yo,...   \n",
       "4  NONE  Qué envidia “@mfcastineiras: Pedro mañana x la...   \n",
       "\n",
       "                  tid                       list_sentwords  \n",
       "0  142378325086715906   [-0.89718783377, -0.0447587788492]  \n",
       "1  142379080808013825  [-0.186050789576, -0.0737980590249]  \n",
       "2  142379173120442368                     [0.464954774729]  \n",
       "3  142379815708803072                    [-0.627849859906]  \n",
       "4  142381190123499520                    [-0.133998716773]  "
      ]
     },
     "execution_count": 6,
     "metadata": {},
     "output_type": "execute_result"
    }
   ],
   "source": [
    "data['list_sentwords'] = data.text.apply(lambda x: list(map(lambda x: x[1], valence(tokenize(x.lower()), sentiment))))\n",
    "data.head()"
   ]
  },
  {
   "cell_type": "code",
   "execution_count": 7,
   "metadata": {
    "collapsed": false
   },
   "outputs": [
    {
     "data": {
      "text/html": [
       "<div>\n",
       "<table border=\"1\" class=\"dataframe\">\n",
       "  <thead>\n",
       "    <tr style=\"text-align: right;\">\n",
       "      <th></th>\n",
       "      <th>sent</th>\n",
       "      <th>text</th>\n",
       "      <th>tid</th>\n",
       "      <th>list_sentwords</th>\n",
       "      <th>n_sent</th>\n",
       "      <th>valence_mean</th>\n",
       "    </tr>\n",
       "  </thead>\n",
       "  <tbody>\n",
       "    <tr>\n",
       "      <th>23737</th>\n",
       "      <td>NONE</td>\n",
       "      <td>#Andalucia no es patrimonio de nadie http://t....</td>\n",
       "      <td>161377431373099008</td>\n",
       "      <td>[]</td>\n",
       "      <td>0.0</td>\n",
       "      <td>0.000000</td>\n",
       "    </tr>\n",
       "    <tr>\n",
       "      <th>54957</th>\n",
       "      <td>NEU</td>\n",
       "      <td>Como en el País Vasco, en Andalucía sería buen...</td>\n",
       "      <td>184891667969609728</td>\n",
       "      <td>[0.84352450959, 0.671906229786, -0.23728244628...</td>\n",
       "      <td>5.0</td>\n",
       "      <td>0.018604</td>\n",
       "    </tr>\n",
       "    <tr>\n",
       "      <th>42135</th>\n",
       "      <td>N+</td>\n",
       "      <td>Montoro se defiende ante las dudas en Europa: ...</td>\n",
       "      <td>174829496871034882</td>\n",
       "      <td>[]</td>\n",
       "      <td>0.0</td>\n",
       "      <td>0.000000</td>\n",
       "    </tr>\n",
       "    <tr>\n",
       "      <th>44915</th>\n",
       "      <td>N</td>\n",
       "      <td>El Gobierno alemán quiere que Google pague por...</td>\n",
       "      <td>177292032371470336</td>\n",
       "      <td>[-0.86756888686, -0.493969393696]</td>\n",
       "      <td>2.0</td>\n",
       "      <td>-0.680769</td>\n",
       "    </tr>\n",
       "    <tr>\n",
       "      <th>18927</th>\n",
       "      <td>NONE</td>\n",
       "      <td>Visitan España: el lunes Sarkozy. Martes Van R...</td>\n",
       "      <td>157544934918991872</td>\n",
       "      <td>[]</td>\n",
       "      <td>0.0</td>\n",
       "      <td>0.000000</td>\n",
       "    </tr>\n",
       "    <tr>\n",
       "      <th>58401</th>\n",
       "      <td>NONE</td>\n",
       "      <td>.@marianorajoy \" las políticas que se han llev...</td>\n",
       "      <td>187496338194305024</td>\n",
       "      <td>[-0.604924695496, -0.604924695496]</td>\n",
       "      <td>2.0</td>\n",
       "      <td>-0.604925</td>\n",
       "    </tr>\n",
       "    <tr>\n",
       "      <th>27404</th>\n",
       "      <td>P</td>\n",
       "      <td>Vamos cerrando un día que nos deja dos citas p...</td>\n",
       "      <td>164126806419578880</td>\n",
       "      <td>[0.823334123731, -0.86756888686]</td>\n",
       "      <td>2.0</td>\n",
       "      <td>-0.022117</td>\n",
       "    </tr>\n",
       "    <tr>\n",
       "      <th>33258</th>\n",
       "      <td>P+</td>\n",
       "      <td>El incremento del número de llegada de visitan...</td>\n",
       "      <td>168023442489229312</td>\n",
       "      <td>[]</td>\n",
       "      <td>0.0</td>\n",
       "      <td>0.000000</td>\n",
       "    </tr>\n",
       "    <tr>\n",
       "      <th>33777</th>\n",
       "      <td>P+</td>\n",
       "      <td>Con el Club de fans en Logroño http://t.co/Bd9...</td>\n",
       "      <td>168431924795289600</td>\n",
       "      <td>[]</td>\n",
       "      <td>0.0</td>\n",
       "      <td>0.000000</td>\n",
       "    </tr>\n",
       "    <tr>\n",
       "      <th>37282</th>\n",
       "      <td>NONE</td>\n",
       "      <td>Con María Salom elegida miembro del Comité Eje...</td>\n",
       "      <td>170982931802767360</td>\n",
       "      <td>[-0.392206596534]</td>\n",
       "      <td>1.0</td>\n",
       "      <td>-0.392207</td>\n",
       "    </tr>\n",
       "    <tr>\n",
       "      <th>43275</th>\n",
       "      <td>NONE</td>\n",
       "      <td>yo tb. No hay dinero “@melchormiralles: @HanSo...</td>\n",
       "      <td>175670952242327552</td>\n",
       "      <td>[0.7274297909]</td>\n",
       "      <td>1.0</td>\n",
       "      <td>0.727430</td>\n",
       "    </tr>\n",
       "    <tr>\n",
       "      <th>33286</th>\n",
       "      <td>P+</td>\n",
       "      <td>Desde la India en apoyo de @FVF_ONGD con #AViv...</td>\n",
       "      <td>168035264667713536</td>\n",
       "      <td>[]</td>\n",
       "      <td>0.0</td>\n",
       "      <td>0.000000</td>\n",
       "    </tr>\n",
       "    <tr>\n",
       "      <th>12335</th>\n",
       "      <td>N</td>\n",
       "      <td>El Congreso expulsará a los fotógrafos si vuln...</td>\n",
       "      <td>152042184718286848</td>\n",
       "      <td>[]</td>\n",
       "      <td>0.0</td>\n",
       "      <td>0.000000</td>\n",
       "    </tr>\n",
       "    <tr>\n",
       "      <th>18073</th>\n",
       "      <td>N</td>\n",
       "      <td>Debate sobre las comisiones de la Cámara, atra...</td>\n",
       "      <td>157030028406829056</td>\n",
       "      <td>[-0.732259377448, -0.86756888686]</td>\n",
       "      <td>2.0</td>\n",
       "      <td>-0.799914</td>\n",
       "    </tr>\n",
       "    <tr>\n",
       "      <th>28960</th>\n",
       "      <td>NONE</td>\n",
       "      <td>Ya en Sevilla! Guerra de los primeros en llega...</td>\n",
       "      <td>165386018151874561</td>\n",
       "      <td>[-0.844896507893]</td>\n",
       "      <td>1.0</td>\n",
       "      <td>-0.844897</td>\n",
       "    </tr>\n",
       "  </tbody>\n",
       "</table>\n",
       "</div>"
      ],
      "text/plain": [
       "       sent                                               text  \\\n",
       "23737  NONE  #Andalucia no es patrimonio de nadie http://t....   \n",
       "54957   NEU  Como en el País Vasco, en Andalucía sería buen...   \n",
       "42135    N+  Montoro se defiende ante las dudas en Europa: ...   \n",
       "44915     N  El Gobierno alemán quiere que Google pague por...   \n",
       "18927  NONE  Visitan España: el lunes Sarkozy. Martes Van R...   \n",
       "58401  NONE  .@marianorajoy \" las políticas que se han llev...   \n",
       "27404     P  Vamos cerrando un día que nos deja dos citas p...   \n",
       "33258    P+  El incremento del número de llegada de visitan...   \n",
       "33777    P+  Con el Club de fans en Logroño http://t.co/Bd9...   \n",
       "37282  NONE  Con María Salom elegida miembro del Comité Eje...   \n",
       "43275  NONE  yo tb. No hay dinero “@melchormiralles: @HanSo...   \n",
       "33286    P+  Desde la India en apoyo de @FVF_ONGD con #AViv...   \n",
       "12335     N  El Congreso expulsará a los fotógrafos si vuln...   \n",
       "18073     N  Debate sobre las comisiones de la Cámara, atra...   \n",
       "28960  NONE  Ya en Sevilla! Guerra de los primeros en llega...   \n",
       "\n",
       "                      tid                                     list_sentwords  \\\n",
       "23737  161377431373099008                                                 []   \n",
       "54957  184891667969609728  [0.84352450959, 0.671906229786, -0.23728244628...   \n",
       "42135  174829496871034882                                                 []   \n",
       "44915  177292032371470336                  [-0.86756888686, -0.493969393696]   \n",
       "18927  157544934918991872                                                 []   \n",
       "58401  187496338194305024                 [-0.604924695496, -0.604924695496]   \n",
       "27404  164126806419578880                   [0.823334123731, -0.86756888686]   \n",
       "33258  168023442489229312                                                 []   \n",
       "33777  168431924795289600                                                 []   \n",
       "37282  170982931802767360                                  [-0.392206596534]   \n",
       "43275  175670952242327552                                     [0.7274297909]   \n",
       "33286  168035264667713536                                                 []   \n",
       "12335  152042184718286848                                                 []   \n",
       "18073  157030028406829056                  [-0.732259377448, -0.86756888686]   \n",
       "28960  165386018151874561                                  [-0.844896507893]   \n",
       "\n",
       "       n_sent  valence_mean  \n",
       "23737     0.0      0.000000  \n",
       "54957     5.0      0.018604  \n",
       "42135     0.0      0.000000  \n",
       "44915     2.0     -0.680769  \n",
       "18927     0.0      0.000000  \n",
       "58401     2.0     -0.604925  \n",
       "27404     2.0     -0.022117  \n",
       "33258     0.0      0.000000  \n",
       "33777     0.0      0.000000  \n",
       "37282     1.0     -0.392207  \n",
       "43275     1.0      0.727430  \n",
       "33286     0.0      0.000000  \n",
       "12335     0.0      0.000000  \n",
       "18073     2.0     -0.799914  \n",
       "28960     1.0     -0.844897  "
      ]
     },
     "execution_count": 7,
     "metadata": {},
     "output_type": "execute_result"
    }
   ],
   "source": [
    "data[['n_sent', 'valence_mean']] = data.list_sentwords.apply(lambda x: (len(x), np.mean(x)) if len(x) > 0 else (0, 0))\\\n",
    "                                       .apply(pd.Series)\n",
    "data.sample(15)"
   ]
  },
  {
   "cell_type": "markdown",
   "metadata": {},
   "source": [
    "\n",
    "\n",
    "\n",
    "\n",
    "Dado que sólo nos interesa N vs. P vs. NEU, podemos colapsar las categorias P+ y N+."
   ]
  },
  {
   "cell_type": "code",
   "execution_count": 8,
   "metadata": {
    "collapsed": false
   },
   "outputs": [
    {
     "data": {
      "text/plain": [
       "array(['N', 'NONE', 'P+', 'P', 'N+', 'NEU'], dtype=object)"
      ]
     },
     "execution_count": 8,
     "metadata": {},
     "output_type": "execute_result"
    }
   ],
   "source": [
    "data.sent.unique()"
   ]
  },
  {
   "cell_type": "code",
   "execution_count": 9,
   "metadata": {
    "collapsed": false
   },
   "outputs": [
    {
     "data": {
      "text/html": [
       "<div>\n",
       "<table border=\"1\" class=\"dataframe\">\n",
       "  <thead>\n",
       "    <tr style=\"text-align: right;\">\n",
       "      <th></th>\n",
       "      <th>sent</th>\n",
       "      <th>text</th>\n",
       "      <th>tid</th>\n",
       "      <th>list_sentwords</th>\n",
       "      <th>n_sent</th>\n",
       "      <th>valence_mean</th>\n",
       "    </tr>\n",
       "  </thead>\n",
       "  <tbody>\n",
       "    <tr>\n",
       "      <th>39567</th>\n",
       "      <td>N</td>\n",
       "      <td>. @pedroj_ramirez Mira esto: enfermos de la un...</td>\n",
       "      <td>172608053609373696</td>\n",
       "      <td>[0.232765337347]</td>\n",
       "      <td>1.0</td>\n",
       "      <td>0.232765</td>\n",
       "    </tr>\n",
       "    <tr>\n",
       "      <th>33270</th>\n",
       "      <td>P</td>\n",
       "      <td>Bueno. Me voy a poner en marcha. Un abrazo gra...</td>\n",
       "      <td>168027512687964160</td>\n",
       "      <td>[0.285265496703]</td>\n",
       "      <td>1.0</td>\n",
       "      <td>0.285265</td>\n",
       "    </tr>\n",
       "    <tr>\n",
       "      <th>55327</th>\n",
       "      <td>N</td>\n",
       "      <td>Lo molesto de los charlatanes es que no tienen...</td>\n",
       "      <td>185060815521579008</td>\n",
       "      <td>[0.722382194435]</td>\n",
       "      <td>1.0</td>\n",
       "      <td>0.722382</td>\n",
       "    </tr>\n",
       "    <tr>\n",
       "      <th>27013</th>\n",
       "      <td>NEU</td>\n",
       "      <td>Borrell en @OndaCero_es: A Chacón se le acusa ...</td>\n",
       "      <td>163916904015204352</td>\n",
       "      <td>[]</td>\n",
       "      <td>0.0</td>\n",
       "      <td>0.000000</td>\n",
       "    </tr>\n",
       "    <tr>\n",
       "      <th>55582</th>\n",
       "      <td>N</td>\n",
       "      <td>A los trolls bloqueo. Que caguen en otra parte...</td>\n",
       "      <td>185258222431637504</td>\n",
       "      <td>[]</td>\n",
       "      <td>0.0</td>\n",
       "      <td>0.000000</td>\n",
       "    </tr>\n",
       "  </tbody>\n",
       "</table>\n",
       "</div>"
      ],
      "text/plain": [
       "      sent                                               text  \\\n",
       "39567    N  . @pedroj_ramirez Mira esto: enfermos de la un...   \n",
       "33270    P  Bueno. Me voy a poner en marcha. Un abrazo gra...   \n",
       "55327    N  Lo molesto de los charlatanes es que no tienen...   \n",
       "27013  NEU  Borrell en @OndaCero_es: A Chacón se le acusa ...   \n",
       "55582    N  A los trolls bloqueo. Que caguen en otra parte...   \n",
       "\n",
       "                      tid    list_sentwords  n_sent  valence_mean  \n",
       "39567  172608053609373696  [0.232765337347]     1.0      0.232765  \n",
       "33270  168027512687964160  [0.285265496703]     1.0      0.285265  \n",
       "55327  185060815521579008  [0.722382194435]     1.0      0.722382  \n",
       "27013  163916904015204352                []     0.0      0.000000  \n",
       "55582  185258222431637504                []     0.0      0.000000  "
      ]
     },
     "execution_count": 9,
     "metadata": {},
     "output_type": "execute_result"
    }
   ],
   "source": [
    "data.ix[data.sent=='N+', 'sent'] = 'N'\n",
    "data.ix[data.sent=='P+', 'sent'] = 'P'\n",
    "data.sample(5)"
   ]
  },
  {
   "cell_type": "code",
   "execution_count": 10,
   "metadata": {
    "collapsed": false
   },
   "outputs": [
    {
     "data": {
      "text/plain": [
       "array(['N', 'NONE', 'P', 'NEU'], dtype=object)"
      ]
     },
     "execution_count": 10,
     "metadata": {},
     "output_type": "execute_result"
    }
   ],
   "source": [
    "data.sent.unique()"
   ]
  },
  {
   "cell_type": "code",
   "execution_count": 11,
   "metadata": {
    "collapsed": false
   },
   "outputs": [
    {
     "data": {
      "image/png": "[encoded data removed]",
      "text/plain": [
       "<matplotlib.figure.Figure at 0x136d3bb70>"
      ]
     },
     "metadata": {},
     "output_type": "display_data"
    }
   ],
   "source": [
    "sns.countplot(data['sent']);"
   ]
  },
  {
   "cell_type": "markdown",
   "metadata": {},
   "source": [
    "Veamos la distribución de valencias en función del sentimiento. Al parecer podríamos diferenciar entre sentimientos __P__ y __N__ usando nada más la media de valencia."
   ]
  },
  {
   "cell_type": "code",
   "execution_count": 12,
   "metadata": {
    "collapsed": false
   },
   "outputs": [
    {
     "data": {
      "image/png": "[encoded data removed]",
      "text/plain": [
       "<matplotlib.figure.Figure at 0x136d1b7f0>"
      ]
     },
     "metadata": {},
     "output_type": "display_data"
    }
   ],
   "source": [
    "sns.boxplot(x=\"sent\", y=\"valence_mean\", data=data);"
   ]
  },
  {
   "cell_type": "markdown",
   "metadata": {},
   "source": [
    "## Classifier\n",
    "Separamos los datos en un simple train/test y comparamos que tan bien predice un arbol de decisión que sólo usa la media de la valencia.\n",
    "\n",
    "### Data split"
   ]
  },
  {
   "cell_type": "code",
   "execution_count": 13,
   "metadata": {
    "collapsed": false
   },
   "outputs": [],
   "source": [
    "from sklearn.cross_validation import train_test_split\n",
    "from sklearn.metrics import classification_report\n",
    "\n",
    "tr, ts = train_test_split(data, test_size = 0.25, random_state = 42)"
   ]
  },
  {
   "cell_type": "markdown",
   "metadata": {},
   "source": [
    "### Baseline\n",
    "El modelo base es usar la categoria más popular"
   ]
  },
  {
   "cell_type": "code",
   "execution_count": 14,
   "metadata": {
    "collapsed": false
   },
   "outputs": [
    {
     "name": "stderr",
     "output_type": "stream",
     "text": [
      "/Users/victor/miniconda2/envs/py3k/lib/python3.5/site-packages/ipykernel/__main__.py:1: SettingWithCopyWarning: \n",
      "A value is trying to be set on a copy of a slice from a DataFrame.\n",
      "Try using .loc[row_indexer,col_indexer] = value instead\n",
      "\n",
      "See the caveats in the documentation: http://pandas.pydata.org/pandas-docs/stable/indexing.html#indexing-view-versus-copy\n",
      "  if __name__ == '__main__':\n",
      "/Users/victor/miniconda2/envs/py3k/lib/python3.5/site-packages/sklearn/metrics/classification.py:1074: UndefinedMetricWarning: Precision and F-score are ill-defined and being set to 0.0 in labels with no predicted samples.\n",
      "  'precision', 'predicted', average, warn_for)\n"
     ]
    },
    {
     "name": "stdout",
     "output_type": "stream",
     "text": [
      "             precision    recall  f1-score   support\n",
      "\n",
      "          N       0.00      0.00      0.00      3967\n",
      "        NEU       0.00      0.00      0.00       323\n",
      "       NONE       0.00      0.00      0.00      5372\n",
      "          P       0.36      1.00      0.53      5538\n",
      "\n",
      "avg / total       0.13      0.36      0.19     15200\n",
      "\n"
     ]
    }
   ],
   "source": [
    "ts['basemod'] = 'P'\n",
    "print(classification_report(ts['sent'], ts['basemod']))"
   ]
  },
  {
   "cell_type": "code",
   "execution_count": 15,
   "metadata": {
    "collapsed": false
   },
   "outputs": [
    {
     "name": "stdout",
     "output_type": "stream",
     "text": [
      "             precision    recall  f1-score   support\n",
      "\n",
      "          N       0.47      0.30      0.37      3967\n",
      "        NEU       0.06      0.02      0.03       323\n",
      "       NONE       0.41      0.75      0.53      5372\n",
      "          P       0.56      0.28      0.37      5538\n",
      "\n",
      "avg / total       0.47      0.45      0.42     15200\n",
      "\n"
     ]
    }
   ],
   "source": [
    "clf = DecisionTreeClassifier()\n",
    "clf.fit(tr.valence_mean.reshape(len(tr), 1), tr.sent)\n",
    "preds = clf.predict(ts.valence_mean.reshape(len(ts), 1))\n",
    "\n",
    "print(classification_report(ts['sent'], preds))"
   ]
  },
  {
   "cell_type": "code",
   "execution_count": null,
   "metadata": {
    "collapsed": true
   },
   "outputs": [],
   "source": []
  }
 ],
 "metadata": {
  "kernelspec": {
   "display_name": "Python 3",
   "language": "python",
   "name": "python3"
  },
  "language_info": {
   "codemirror_mode": {
    "name": "ipython",
    "version": 3
   },
   "file_extension": ".py",
   "mimetype": "text/x-python",
   "name": "python",
   "nbconvert_exporter": "python",
   "pygments_lexer": "ipython3",
   "version": "3.5.2"
  }
 },
 "nbformat": 4,
 "nbformat_minor": 0
}
